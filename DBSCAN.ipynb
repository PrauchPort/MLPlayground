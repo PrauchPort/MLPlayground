{
 "cells": [
  {
   "cell_type": "code",
   "execution_count": 1,
   "metadata": {},
   "outputs": [],
   "source": [
    "import numpy as np\n",
    "import scipy as scipy\n",
    "from sklearn import cluster\n",
    "import matplotlib.pyplot as plt"
   ]
  },
  {
   "cell_type": "code",
   "execution_count": null,
   "metadata": {},
   "outputs": [],
   "source": [
    "def set2List(array):\n",
    "    l = []\n",
    "    for item in array:\n",
    "        l.append(item.tolist())\n",
    "    return l\n",
    "\n",
    "def generateData():\n",
    "    x1 = np.random.randn(50,2)\n",
    "    x2x = np.random.randn(80,1)+12\n",
    "    x2y = np.random.randn(80,1)\n",
    "    x2 = np.column_stack((x2x,x2y))\n",
    "    x3 = np.random.randn(100,2)+8\n",
    "    x4 = np.random.randn(120,2)+15\n",
    "    z = np.concatenate((x1,x2,x3,x4))\n",
    "    return z\n",
    "\n",
    "def DBSCAN(dataset, epsilon, minPts, distanceMethod='euclidean'):\n",
    "    m, n = dataset.shape\n",
    "    visited = np.zeros(m, 'int')\n",
    "    # -1 noise, 0 border, 1 core\n",
    "    point_type = numpy.zeros(m)\n",
    "    cluster_list = []\n",
    "    cluster = []\n",
    "    "
   ]
  }
 ],
 "metadata": {
  "kernelspec": {
   "display_name": "Python 3",
   "language": "python",
   "name": "python3"
  },
  "language_info": {
   "codemirror_mode": {
    "name": "ipython",
    "version": 3
   },
   "file_extension": ".py",
   "mimetype": "text/x-python",
   "name": "python",
   "nbconvert_exporter": "python",
   "pygments_lexer": "ipython3",
   "version": "3.6.8"
  }
 },
 "nbformat": 4,
 "nbformat_minor": 2
}
