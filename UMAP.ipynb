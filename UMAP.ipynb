{
 "cells": [
  {
   "cell_type": "code",
   "execution_count": 1,
   "metadata": {},
   "outputs": [],
   "source": [
    "# https://towardsdatascience.com/how-to-program-umap-from-scratch-e6eff67f55fe"
   ]
  },
  {
   "cell_type": "code",
   "execution_count": 11,
   "metadata": {},
   "outputs": [],
   "source": [
    "import numpy as np\n",
    "import pandas as pd\n",
    "import matplotlib.pyplot as plt\n",
    "from sklearn.metrics.pairwise import euclidean_distances\n",
    "from scipy import optimize\n",
    "\n",
    "expr = pd.read_csv('static/CAFs.txt', sep='\\t')"
   ]
  },
  {
   "cell_type": "code",
   "execution_count": 3,
   "metadata": {},
   "outputs": [
    {
     "name": "stdout",
     "output_type": "stream",
     "text": [
      "This dataset contains 716 samples\n",
      "\n",
      "Dimensions of the data points: (716, 557), labels: (716, 1)\n"
     ]
    }
   ],
   "source": [
    "X_train = expr.values[:, :-1]\n",
    "X_train = np.log(X_train+1)\n",
    "n = X_train.shape[0]\n",
    "print(\"This dataset contains {0} samples\".format(n))\n",
    "Y_train = expr.values[:, -1:]\n",
    "print(\"\\nDimensions of the data points: {0}, labels: {1}\".format(X_train.shape, Y_train.shape))"
   ]
  },
  {
   "cell_type": "code",
   "execution_count": 4,
   "metadata": {},
   "outputs": [],
   "source": [
    "# Matrix of the squared Euclidean distances\n",
    "dist = np.square(euclidean_distances(X_train, X_train))"
   ]
  },
  {
   "cell_type": "code",
   "execution_count": 5,
   "metadata": {},
   "outputs": [],
   "source": [
    "#Get the squared Euclidean distance to the nearest neighbor\n",
    "rho = [sorted(dist[i])[1] for i in range(dist.shape[0])]"
   ]
  },
  {
   "cell_type": "code",
   "execution_count": 6,
   "metadata": {},
   "outputs": [
    {
     "name": "stdout",
     "output_type": "stream",
     "text": [
      "[[   0.          914.95016311 1477.46836099 3036.91172176]\n",
      " [ 914.95016311    0.         1307.39294642 2960.41559961]\n",
      " [1477.46836099 1307.39294642    0.         2678.34442573]\n",
      " [3036.91172176 2960.41559961 2678.34442573    0.        ]]\n",
      "\n",
      "[805.2464562222542, 652.4022952321459, 1036.9011547563534, 1244.8783774968015]\n"
     ]
    }
   ],
   "source": [
    "print(dist[0:4, 0:4])\n",
    "print()\n",
    "print(rho[0:4])"
   ]
  },
  {
   "cell_type": "code",
   "execution_count": 7,
   "metadata": {},
   "outputs": [],
   "source": [
    "def prob_high_dim(sigma, row_index):\n",
    "    \"\"\"\n",
    "    For each row of Euclidean distance matrix (dist_row) compute\n",
    "    probability in high dimensions (1D array)\n",
    "    \"\"\"\n",
    "    d = dist[row_index] - rho[row_index]; d[d < 0] = 0\n",
    "    return np.exp(-d/sigma)"
   ]
  },
  {
   "cell_type": "code",
   "execution_count": 8,
   "metadata": {},
   "outputs": [],
   "source": [
    "def k(prob):\n",
    "    \"\"\"\n",
    "    Compute n_neighbor = k (scalar) for each 1D array of high-dimensional probability\n",
    "    \"\"\"\n",
    "    return np.power(2, np.sum(prob))"
   ]
  },
  {
   "cell_type": "code",
   "execution_count": 9,
   "metadata": {},
   "outputs": [
    {
     "name": "stdout",
     "output_type": "stream",
     "text": [
      "Sigma binary search finished 100 of 716 cells\n",
      "Sigma binary search finished 200 of 716 cells\n",
      "Sigma binary search finished 300 of 716 cells\n",
      "Sigma binary search finished 400 of 716 cells\n",
      "Sigma binary search finished 500 of 716 cells\n",
      "Sigma binary search finished 600 of 716 cells\n",
      "Sigma binary search finished 700 of 716 cells\n",
      "\n",
      "Mean sigma = 63.51506110676174\n"
     ]
    }
   ],
   "source": [
    "def sigma_binary_search(k_of_sigma, fixed_k):\n",
    "    \"\"\"\n",
    "    Solve equation k_of_sigma(sigma) = fixed_k \n",
    "    with respect to sigma by the binary search algorithm\n",
    "    \"\"\"\n",
    "    sigma_lower_limit = 0; sigma_upper_limit = 1000\n",
    "    for i in range(20):\n",
    "        approx_sigma = (sigma_lower_limit + sigma_upper_limit) / 2\n",
    "        if k_of_sigma(approx_sigma) < fixed_k:\n",
    "            sigma_lower_limit = approx_sigma\n",
    "        else:\n",
    "            sigma_upper_limit = approx_sigma\n",
    "        if np.abs(fixed_k - k_of_sigma(approx_sigma)) <= 1e-5:\n",
    "            break\n",
    "    return approx_sigma\n",
    "\n",
    "N_NEIGHBOR = 15\n",
    "prob = np.zeros((n,n)); sigma_array = []\n",
    "for row_index in range(n):\n",
    "    func = lambda sigma: k(prob_high_dim(sigma, row_index))\n",
    "    binary_search_result = sigma_binary_search(func, N_NEIGHBOR)\n",
    "    prob[row_index] = prob_high_dim(binary_search_result, row_index)\n",
    "    sigma_array.append(binary_search_result)\n",
    "    if (row_index + 1) % 100 == 0:\n",
    "        print(\"Sigma binary search finished {0} of {1} cells\".format(row_index + 1, n))\n",
    "print(\"\\nMean sigma = \" + str(np.mean(sigma_array)))"
   ]
  },
  {
   "cell_type": "code",
   "execution_count": 12,
   "metadata": {},
   "outputs": [
    {
     "name": "stdout",
     "output_type": "stream",
     "text": [
      "Hyperparameters a = 1.1214363425627392 and b = 1.0574998764478827\n"
     ]
    }
   ],
   "source": [
    "MIN_DIST = 0.25\n",
    "\n",
    "x = np.linspace(0, 3, 300)\n",
    "\n",
    "def f(x, min_dist):\n",
    "    y = []\n",
    "    for i in range(len(x)):\n",
    "        if(x[i] <= min_dist):\n",
    "            y.append(1)\n",
    "        else:\n",
    "            y.append(np.exp(- x[i] + min_dist))\n",
    "    return y\n",
    "\n",
    "dist_low_dim = lambda x, a, b: 1/(1 + a*x**(2*b))\n",
    "\n",
    "p, _ = optimize.curve_fit(dist_low_dim, x, f(x, MIN_DIST))\n",
    "\n",
    "a = p[0]\n",
    "b = p[1]\n",
    "\n",
    "print(\"Hyperparameters a = \" + str(a) + \" and b = \" + str(b))"
   ]
  },
  {
   "cell_type": "code",
   "execution_count": 16,
   "metadata": {},
   "outputs": [],
   "source": [
    "def prob_low_dim(Y):\n",
    "    \"\"\"\n",
    "    Compute matrix of probabilities q_ij in low_dimensional space\n",
    "    \"\"\"\n",
    "    inv_distances = np.power(1 + a * np.square(euclidean_distances(Y,Y))**b, -1)\n",
    "    return inv_distances"
   ]
  },
  {
   "cell_type": "code",
   "execution_count": 17,
   "metadata": {},
   "outputs": [],
   "source": [
    "def CE(P, Y):\n",
    "    \"\"\"\n",
    "    Compute Cross-Entropy (CE) from matrix of high-dimensional probabilities\n",
    "    and coordinates of low-dimensional embeddings\n",
    "    \"\"\"\n",
    "    Q = prob_low_dim(Y)\n",
    "    return - P * np.log(Q + 0.01) - (1 - P) * np.log(1 - Q + 0.01)\n",
    "\n",
    "def CE_gradient(P, Y):\n",
    "    \"\"\"\n",
    "    Compute the gradient of Cross-Entropy (CE)\n",
    "    \"\"\"\n",
    "    y_diff = np.expand_dims(Y, 1) - np.expand_dims(Y, 0)\n",
    "    inv_dist = np.power(1 + a * np.square(euclidean_distances(Y, Y)) ** b, -1)\n",
    "    Q = np.dot(1 - P, np.power(0.001 + np.square(euclidean_distances(Y, Y)), -1))\n",
    "    np.fill_diagonal(Q, 0)\n",
    "    Q = Q / np.sum(Q, axis = 1, keepdims = True)\n",
    "    fact = np.expand_dims(a*P*(1e-8 + np.square(euclidean_distances(Y, Y)))**(b-1) - Q, 2)\n",
    "    return 2 * b * np.sum(fact * y_diff * np.expand_dims(inv_dist, 2), axis = 1)"
   ]
  },
  {
   "cell_type": "code",
   "execution_count": null,
   "metadata": {},
   "outputs": [],
   "source": []
  }
 ],
 "metadata": {
  "kernelspec": {
   "display_name": "Python 3",
   "language": "python",
   "name": "python3"
  },
  "language_info": {
   "codemirror_mode": {
    "name": "ipython",
    "version": 3
   },
   "file_extension": ".py",
   "mimetype": "text/x-python",
   "name": "python",
   "nbconvert_exporter": "python",
   "pygments_lexer": "ipython3",
   "version": "3.6.8"
  }
 },
 "nbformat": 4,
 "nbformat_minor": 2
}
