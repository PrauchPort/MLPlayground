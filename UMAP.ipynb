{
 "cells": [
  {
   "cell_type": "code",
   "execution_count": 1,
   "metadata": {},
   "outputs": [],
   "source": [
    "import numpy as np\n",
    "import pandas as pd\n",
    "import matplotlib.pyplot as plt\n",
    "from sklearn.metrics.pairwise import euclidean_distances\n",
    "\n",
    "expr = pd.read_csv('static/CAFs.txt', sep='\\t')"
   ]
  },
  {
   "cell_type": "code",
   "execution_count": 20,
   "metadata": {},
   "outputs": [
    {
     "name": "stdout",
     "output_type": "stream",
     "text": [
      "This dataset contains 716 samples\n",
      "\n",
      "Dimensions of the data points: (716, 557), labels: (716, 1)\n"
     ]
    }
   ],
   "source": [
    "X_train = expr.values[:, :-1]\n",
    "X_train = np.log(X_train+1)\n",
    "n = X_train.shape[0]\n",
    "print(\"This dataset contains {0} samples\".format(n))\n",
    "Y_train = expr.values[:, -1:]\n",
    "print(\"\\nDimensions of the data points: {0}, labels: {1}\".format(X_train.shape, Y_train.shape))"
   ]
  },
  {
   "cell_type": "code",
   "execution_count": 21,
   "metadata": {},
   "outputs": [],
   "source": [
    "# Matrix of the squared Euclidean distances\n",
    "dist = np.square(euclidean_distances(X_train, X_train))"
   ]
  },
  {
   "cell_type": "code",
   "execution_count": 30,
   "metadata": {},
   "outputs": [],
   "source": [
    "#Get the squared Euclidean distance to the nearest neighbor\n",
    "rho = [sorted(dist[i])[1] for i in range(dist.shape[0])]"
   ]
  },
  {
   "cell_type": "code",
   "execution_count": 32,
   "metadata": {},
   "outputs": [
    {
     "name": "stdout",
     "output_type": "stream",
     "text": [
      "[[   0.          914.95016311 1477.46836099 3036.91172176]\n",
      " [ 914.95016311    0.         1307.39294642 2960.41559961]\n",
      " [1477.46836099 1307.39294642    0.         2678.34442573]\n",
      " [3036.91172176 2960.41559961 2678.34442573    0.        ]]\n",
      "\n",
      "[805.2464562222542, 652.4022952321459, 1036.9011547563534, 1244.8783774968015]\n"
     ]
    }
   ],
   "source": [
    "print(dist[0:4, 0:4])\n",
    "print()\n",
    "print(rho[0:4])"
   ]
  },
  {
   "cell_type": "code",
   "execution_count": 34,
   "metadata": {},
   "outputs": [],
   "source": [
    "def prob_high_dim(sigma, dist_row):\n",
    "    \"\"\"\n",
    "    For each row of Euclidean distance matrix (dist_row) compute\n",
    "    probability in high dimensions (1D array)\n",
    "    \"\"\"\n",
    "    d = dist[dist_row] - rho[dist_row]; d[d < 0] = 0\n",
    "    return np.exp(-d/sigma)"
   ]
  },
  {
   "cell_type": "code",
   "execution_count": 35,
   "metadata": {},
   "outputs": [],
   "source": [
    "def k(prob):\n",
    "    \"\"\"\n",
    "    Compute n_neighbor = k (scalar) for each 1D array of high-dimensional probability\n",
    "    \"\"\"\n",
    "    return np.power(2, np.sum(prob))"
   ]
  },
  {
   "cell_type": "code",
   "execution_count": null,
   "metadata": {},
   "outputs": [],
   "source": [
    "def sigma_binary_search(k_of_sigma, fixed_k):\n",
    "    \"\"\"\n",
    "    Solve equation k_of_sigma(sigma) = fixed_k \n",
    "    with respect to sigma by the binary search algorithm\n",
    "    \"\"\"\n",
    "    sigma_lower_limit = 0; sigma_upper_limit = 1000\n",
    "    for i in range(20):\n",
    "        approx_sigma = (sigma_lower_limit + sigma_upper_limit) / 2\n",
    "        if k_of_sigma(approx_sigma) < fixed_k:\n",
    "            sigma_lower_limit = approx_sigma\n",
    "        else:\n",
    "            sigma_upper_limit = approx_sigma\n",
    "        if np.abs(fixed_k - k_of_sigma(approx_sigma)) <= 1e-5:\n",
    "            break\n",
    "    return approx_sigma"
   ]
  }
 ],
 "metadata": {
  "kernelspec": {
   "display_name": "Python 3",
   "language": "python",
   "name": "python3"
  },
  "language_info": {
   "codemirror_mode": {
    "name": "ipython",
    "version": 3
   },
   "file_extension": ".py",
   "mimetype": "text/x-python",
   "name": "python",
   "nbconvert_exporter": "python",
   "pygments_lexer": "ipython3",
   "version": "3.6.8"
  }
 },
 "nbformat": 4,
 "nbformat_minor": 2
}
